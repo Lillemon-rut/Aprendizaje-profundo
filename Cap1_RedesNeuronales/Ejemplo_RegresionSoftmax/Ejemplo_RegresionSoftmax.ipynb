{
 "cells": [
  {
   "cell_type": "markdown",
   "metadata": {
    "id": "pX6KXQYnzMDv"
   },
   "source": [
    "# Ejemplo regresión Softmax\n",
    "\n",
    "El código a continuación presenta un ejemplo de implementación de la técnica de regresion logística multinomial o regresión softmax utilizada para la clasificación de un conjunto en diferentes clases. Para mayor comprensión en las funciones utilizadas se recomienda la [documentación de Pytorch](https://pytorch.org/docs/stable/index.html)."
   ]
  },
  {
   "cell_type": "code",
   "execution_count": 12,
   "metadata": {
    "id": "xZfwddnjPRRC"
   },
   "outputs": [],
   "source": [
    "import matplotlib.pyplot as plt\n",
    "import pandas as pd\n",
    "import torch\n",
    "import torch.nn.functional as F"
   ]
  },
  {
   "cell_type": "markdown",
   "metadata": {
    "id": "Tp9_NStWRjN2"
   },
   "source": [
    "## Visualización del conjunto de datos\n",
    "\n",
    "El primer conjunto al que aplicaremos la regresión softmax será el conjunto de flores de iris, este conjunto de datos contiene las clases de iris versicolor, virginica y setosa además de las características para cada una de las muestras."
   ]
  },
  {
   "cell_type": "code",
   "execution_count": null,
   "metadata": {
    "colab": {
     "base_uri": "https://localhost:8080/",
     "height": 253
    },
    "id": "XEO3eMpYRlux",
    "outputId": "7791a6a3-3afb-443a-e25f-b6b5111d0350"
   },
   "outputs": [
    {
     "data": {
      "image/png": "[encoded data removed]",
      "text/plain": [
       "<Figure size 700x250 with 2 Axes>"
      ]
     },
     "metadata": {},
     "output_type": "display_data"
    }
   ],
   "source": [
    "df = pd.read_csv('iris.data', index_col=None, header=None)\n",
    "df.columns = ['x1', 'x2', 'x3', 'x4', 'y']\n",
    "\n",
    "d = {'Iris-versicolor': 2,\n",
    "     'Iris-virginica': 3,\n",
    "     'Iris-setosa': 1,\n",
    "}\n",
    "\n",
    "df['y'] = df['y'].map(d)\n",
    "\n",
    "# Asignamos las características y la etiqueta\n",
    "\n",
    "X = torch.tensor(df[['x2', 'x4']].values, dtype=torch.float)\n",
    "y = torch.tensor(df['y'].values, dtype=torch.int)\n",
    "\n",
    "# Mezclando y asignando el conjunto de datos de entrenamiento y prueba\n",
    "\n",
    "torch.manual_seed(123)\n",
    "shuffle_idx = torch.randperm(y.size(0), dtype=torch.long)\n",
    "\n",
    "X, y = X[shuffle_idx], y[shuffle_idx]\n",
    "\n",
    "percent80 = int(shuffle_idx.size(0)*0.8)\n",
    "\n",
    "X_train, X_test = X[shuffle_idx[:percent80]], X[shuffle_idx[percent80:]]\n",
    "y_train, y_test = y[shuffle_idx[:percent80]], y[shuffle_idx[percent80:]]\n",
    "\n",
    "# Normalizamos el conjunto de datos\n",
    "\n",
    "mu, sigma = X_train.mean(dim=0), X_train.std(dim=0)\n",
    "X_train = (X_train - mu) / sigma\n",
    "X_test = (X_test - mu) / sigma\n",
    "\n",
    "\n",
    "\n",
    "# Graficamos\n",
    "fig, ax = plt.subplots(1, 2, figsize=(7, 2.5))\n",
    "# Conjunto de entrenamiento\n",
    "ax[0].scatter(X_train[y_train == 3, 0], X_train[y_train == 3, 1])\n",
    "ax[0].scatter(X_train[y_train == 2, 0], X_train[y_train == 2, 1], marker='v')\n",
    "ax[0].scatter(X_train[y_train == 1, 0], X_train[y_train == 1, 1], marker='s')\n",
    "# Conjunto de prueba\n",
    "ax[1].scatter(X_test[y_test == 3, 0], X_test[y_test == 3, 1])\n",
    "ax[1].scatter(X_test[y_test == 2, 0], X_test[y_test == 2, 1], marker='v')\n",
    "ax[1].scatter(X_test[y_test == 1, 0], X_test[y_test == 1, 1], marker='s')\n",
    "plt.show()"
   ]
  },
  {
   "cell_type": "markdown",
   "metadata": {
    "id": "SZyisSHsTA_j"
   },
   "source": [
    "## Modelo clasificación flores de Iris"
   ]
  },
  {
   "cell_type": "code",
   "execution_count": 14,
   "metadata": {
    "id": "N4W8G21UUKmr"
   },
   "outputs": [],
   "source": [
    "DISPOSITIVO = torch.device(\"cuda:0\" if torch.cuda.is_available() else \"cpu\")"
   ]
  },
  {
   "cell_type": "code",
   "execution_count": 15,
   "metadata": {
    "id": "7hYSbXxVTGWe"
   },
   "outputs": [],
   "source": [
    "class RegresionSoftmax(torch.nn.Module):\n",
    "\n",
    "    def __init__(self, num_caracteristicas, num_clases):\n",
    "        super(RegresionSoftmax, self).__init__()\n",
    "        self.lineal = torch.nn.Linear(num_caracteristicas, num_clases)\n",
    "        # Inicializamos los pesos y la bias en cero\n",
    "        self.lineal.weight.detach().zero_()\n",
    "        self.lineal.bias.detach().zero_()\n",
    "\n",
    "    def forward(self, x):\n",
    "        regla_propagacion = self.lineal(x)\n",
    "        funcion_activacion = F.softmax(regla_propagacion, dim=1)\n",
    "        return regla_propagacion, funcion_activacion\n",
    "\n",
    "modelo_iris = RegresionSoftmax(num_caracteristicas=2, num_clases=3).to(DISPOSITIVO)\n",
    "metodo_optimizacion = torch.optim.SGD(modelo_iris.parameters(), lr=0.1) # Implementación de Gradient Descent"
   ]
  },
  {
   "cell_type": "code",
   "execution_count": 16,
   "metadata": {
    "colab": {
     "base_uri": "https://localhost:8080/"
    },
    "id": "wHoYjD8PUyIN",
    "outputId": "5fde9128-f0ab-4fa9-f8bb-6287504cac29"
   },
   "outputs": [
    {
     "name": "stdout",
     "output_type": "stream",
     "text": [
      "Epoca: 001 | Exactitud del entrenamiento: 0.833 | Error: 1.055\n",
      "Epoca: 002 | Exactitud del entrenamiento: 0.833 | Error: 1.015\n",
      "Epoca: 003 | Exactitud del entrenamiento: 0.833 | Error: 0.979\n",
      "Epoca: 004 | Exactitud del entrenamiento: 0.833 | Error: 0.945\n",
      "Epoca: 005 | Exactitud del entrenamiento: 0.833 | Error: 0.914\n",
      "Epoca: 006 | Exactitud del entrenamiento: 0.833 | Error: 0.885\n",
      "Epoca: 007 | Exactitud del entrenamiento: 0.833 | Error: 0.859\n",
      "Epoca: 008 | Exactitud del entrenamiento: 0.833 | Error: 0.835\n",
      "Epoca: 009 | Exactitud del entrenamiento: 0.833 | Error: 0.812\n",
      "Epoca: 010 | Exactitud del entrenamiento: 0.833 | Error: 0.791\n",
      "Epoca: 011 | Exactitud del entrenamiento: 0.833 | Error: 0.772\n",
      "Epoca: 012 | Exactitud del entrenamiento: 0.833 | Error: 0.754\n",
      "Epoca: 013 | Exactitud del entrenamiento: 0.833 | Error: 0.737\n",
      "Epoca: 014 | Exactitud del entrenamiento: 0.833 | Error: 0.722\n",
      "Epoca: 015 | Exactitud del entrenamiento: 0.833 | Error: 0.707\n",
      "Epoca: 016 | Exactitud del entrenamiento: 0.833 | Error: 0.693\n",
      "Epoca: 017 | Exactitud del entrenamiento: 0.833 | Error: 0.680\n",
      "Epoca: 018 | Exactitud del entrenamiento: 0.833 | Error: 0.668\n",
      "Epoca: 019 | Exactitud del entrenamiento: 0.833 | Error: 0.657\n",
      "Epoca: 020 | Exactitud del entrenamiento: 0.833 | Error: 0.646\n",
      "Epoca: 021 | Exactitud del entrenamiento: 0.842 | Error: 0.636\n",
      "Epoca: 022 | Exactitud del entrenamiento: 0.867 | Error: 0.627\n",
      "Epoca: 023 | Exactitud del entrenamiento: 0.867 | Error: 0.618\n",
      "Epoca: 024 | Exactitud del entrenamiento: 0.867 | Error: 0.609\n",
      "Epoca: 025 | Exactitud del entrenamiento: 0.867 | Error: 0.601\n",
      "Epoca: 026 | Exactitud del entrenamiento: 0.867 | Error: 0.593\n",
      "Epoca: 027 | Exactitud del entrenamiento: 0.858 | Error: 0.586\n",
      "Epoca: 028 | Exactitud del entrenamiento: 0.858 | Error: 0.579\n",
      "Epoca: 029 | Exactitud del entrenamiento: 0.858 | Error: 0.572\n",
      "Epoca: 030 | Exactitud del entrenamiento: 0.858 | Error: 0.566\n",
      "Epoca: 031 | Exactitud del entrenamiento: 0.858 | Error: 0.560\n",
      "Epoca: 032 | Exactitud del entrenamiento: 0.858 | Error: 0.554\n",
      "Epoca: 033 | Exactitud del entrenamiento: 0.858 | Error: 0.548\n",
      "Epoca: 034 | Exactitud del entrenamiento: 0.858 | Error: 0.543\n",
      "Epoca: 035 | Exactitud del entrenamiento: 0.858 | Error: 0.538\n",
      "Epoca: 036 | Exactitud del entrenamiento: 0.858 | Error: 0.533\n",
      "Epoca: 037 | Exactitud del entrenamiento: 0.858 | Error: 0.528\n",
      "Epoca: 038 | Exactitud del entrenamiento: 0.858 | Error: 0.524\n",
      "Epoca: 039 | Exactitud del entrenamiento: 0.858 | Error: 0.519\n",
      "Epoca: 040 | Exactitud del entrenamiento: 0.858 | Error: 0.515\n",
      "Epoca: 041 | Exactitud del entrenamiento: 0.858 | Error: 0.511\n",
      "Epoca: 042 | Exactitud del entrenamiento: 0.858 | Error: 0.507\n",
      "Epoca: 043 | Exactitud del entrenamiento: 0.858 | Error: 0.503\n",
      "Epoca: 044 | Exactitud del entrenamiento: 0.858 | Error: 0.499\n",
      "Epoca: 045 | Exactitud del entrenamiento: 0.858 | Error: 0.496\n",
      "Epoca: 046 | Exactitud del entrenamiento: 0.858 | Error: 0.492\n",
      "Epoca: 047 | Exactitud del entrenamiento: 0.858 | Error: 0.489\n",
      "Epoca: 048 | Exactitud del entrenamiento: 0.858 | Error: 0.486\n",
      "Epoca: 049 | Exactitud del entrenamiento: 0.858 | Error: 0.483\n",
      "Epoca: 050 | Exactitud del entrenamiento: 0.858 | Error: 0.479\n",
      "\n",
      "Parámetros del modelo:\n",
      "  Peso: Parameter containing:\n",
      "tensor([[ 0.5585, -1.0257],\n",
      "        [-0.5483,  0.0316],\n",
      "        [-0.0102,  0.9941]], requires_grad=True)\n",
      "  Bias: Parameter containing:\n",
      "tensor([-0.0553,  0.0340,  0.0213], requires_grad=True)\n"
     ]
    }
   ],
   "source": [
    "def calcular_exactitud(etiquetas_correctas, etiquetas_predichas):\n",
    "    exactitud = torch.sum(etiquetas_correctas.view(-1).float() ==\n",
    "                         etiquetas_predichas.float()).item() / etiquetas_correctas.size(0)\n",
    "    return exactitud\n",
    "\n",
    "\n",
    "\n",
    "X_train = X_train.to(DISPOSITIVO)\n",
    "y_train = y_train.to(DISPOSITIVO)\n",
    "X_test = X_test.to(DISPOSITIVO)\n",
    "y_test = y_test.to(DISPOSITIVO)\n",
    "\n",
    "num_epocas = 50\n",
    "for epoca in range(num_epocas):\n",
    "\n",
    "    #### Calculamos la salida ####\n",
    "    regla_propagacion, funcion_activacion = modelo_iris(X_train)\n",
    "\n",
    "    #### Calculamos el gradiente ####\n",
    "    error = F.cross_entropy(regla_propagacion, y_train.long())\n",
    "    metodo_optimizacion.zero_grad()\n",
    "    error.backward()\n",
    "\n",
    "    #### Actualizamos los pesos ####\n",
    "    metodo_optimizacion.step()\n",
    "\n",
    "    #### Muestra de los datos ####\n",
    "    regla_propagacion, funcion_activacion = modelo_iris(X_train)\n",
    "    exactitud = calcular_exactitud(y_train, torch.argmax(funcion_activacion, dim=1))\n",
    "    print('Epoca: %03d' % (epoca + 1), end=\"\")\n",
    "    print(' | Exactitud del entrenamiento: %.3f' % exactitud, end=\"\")\n",
    "    print(' | Error: %.3f' % F.cross_entropy(regla_propagacion, y_train.long()))\n",
    "\n",
    "\n",
    "\n",
    "print('\\nParámetros del modelo:')\n",
    "print('  Peso: %s' % modelo_iris.lineal.weight)\n",
    "print('  Bias: %s' % modelo_iris.lineal.bias)"
   ]
  },
  {
   "cell_type": "code",
   "execution_count": 17,
   "metadata": {
    "colab": {
     "base_uri": "https://localhost:8080/"
    },
    "id": "O6AZ8gn1QnOC",
    "outputId": "1b0d3f2f-6527-4246-be5d-8e2da0bbb759"
   },
   "outputs": [
    {
     "name": "stdout",
     "output_type": "stream",
     "text": [
      "Exactitud del conjunto de prueba: 80.00%\n"
     ]
    }
   ],
   "source": [
    "X_test = X_test.to(DISPOSITIVO)\n",
    "y_test = y_test.to(DISPOSITIVO)\n",
    "\n",
    "regla_propagacion, funcion_activacion = modelo_iris(X_test)\n",
    "exactitud = calcular_exactitud(y_test, torch.argmax(funcion_activacion, dim=1))\n",
    "print('Exactitud del conjunto de prueba: %.2f%%' % (exactitud*100))"
   ]
  },
  {
   "cell_type": "markdown",
   "metadata": {
    "id": "iicUzHJucFr-"
   },
   "source": [
    "## Visualización del modelo\n",
    "\n",
    "Observemos de manera gráfica cómo se distribuyen las clases en el espacio del conjunto de datos"
   ]
  },
  {
   "cell_type": "code",
   "execution_count": 18,
   "metadata": {
    "id": "3l3_WiR0cBrn"
   },
   "outputs": [],
   "source": [
    "from matplotlib.colors import ListedColormap\n",
    "import numpy as np\n",
    "\n",
    "\n",
    "def plot_regiones(X, y, clasificador, distancia_entre_puntos=0.02):\n",
    "\n",
    "    # setup marker generator and color map\n",
    "    markers = ('s', 'x', 'o', '^', 'v')\n",
    "    colors = ('red', 'blue', 'lightgreen', 'gray', 'cyan')\n",
    "    cmap = ListedColormap(colors[:len(np.unique(y))])\n",
    "\n",
    "    # plot the decision surface\n",
    "    x1_min, x1_max = X[:, 0].min() - 1, X[:, 0].max() + 1\n",
    "    x2_min, x2_max = X[:, 1].min() - 1, X[:, 1].max() + 1\n",
    "    xx1, xx2 = np.meshgrid(np.arange(x1_min, x1_max, distancia_entre_puntos),\n",
    "                           np.arange(x2_min, x2_max, distancia_entre_puntos))\n",
    "    tensor = torch.tensor(np.array([xx1.ravel(), xx2.ravel()]).T).float()\n",
    "    regla_propagacion, funcion_activacion = clasificador.forward(tensor)\n",
    "    Z = np.argmax(funcion_activacion.detach().numpy(), axis=1)\n",
    "\n",
    "    Z = Z.reshape(xx1.shape)\n",
    "    plt.contourf(xx1, xx2, Z, alpha=0.4, cmap=cmap)\n",
    "    plt.xlim(xx1.min(), xx1.max())\n",
    "    plt.ylim(xx2.min(), xx2.max())\n",
    "\n",
    "    # plot class samples\n",
    "    for idx, cl in enumerate(np.unique(y)):\n",
    "        plt.scatter(x=X[y == cl, 0], y=X[y == cl, 1],\n",
    "                    alpha=0.8, color=cmap(idx),\n",
    "                    edgecolor='black',\n",
    "                    marker=markers[idx],\n",
    "                    label=cl)"
   ]
  },
  {
   "cell_type": "code",
   "execution_count": 21,
   "metadata": {
    "colab": {
     "base_uri": "https://localhost:8080/",
     "height": 543
    },
    "id": "w_MKX7DEg1BL",
    "outputId": "e047b23e-b7ca-4022-b9f5-1bfe87bbf5f6"
   },
   "outputs": [
    {
     "name": "stderr",
     "output_type": "stream",
     "text": [
      "<ipython-input-18-36fa0d1fb33e>:28: UserWarning: You passed a edgecolor/edgecolors ('black') for an unfilled marker ('x').  Matplotlib is ignoring the edgecolor in favor of the facecolor.  This behavior may change in the future.\n",
      "  plt.scatter(x=X[y == cl, 0], y=X[y == cl, 1],\n"
     ]
    },
    {
     "data": {
      "image/png": "[encoded data removed]",
      "text/plain": [
       "<Figure size 640x480 with 1 Axes>"
      ]
     },
     "metadata": {},
     "output_type": "display_data"
    }
   ],
   "source": [
    "plot_regiones(X_train, y_train, clasificador=modelo_iris)\n",
    "plt.xlabel('longitud del sépalo [cm]')\n",
    "plt.ylabel('longitud del pétalo [cm]')\n",
    "plt.legend(loc='upper left')\n",
    "\n",
    "plt.tight_layout()\n",
    "plt.show()"
   ]
  }
 ],
 "metadata": {
  "colab": {
   "provenance": []
  },
  "kernelspec": {
   "display_name": "Python 3",
   "name": "python3"
  },
  "language_info": {
   "name": "python"
  }
 },
 "nbformat": 4,
 "nbformat_minor": 0
}
