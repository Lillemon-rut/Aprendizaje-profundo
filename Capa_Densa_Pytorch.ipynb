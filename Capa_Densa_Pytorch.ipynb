{
  "nbformat": 4,
  "nbformat_minor": 0,
  "metadata": {
    "colab": {
      "provenance": []
    },
    "kernelspec": {
      "name": "python3",
      "display_name": "Python 3"
    },
    "language_info": {
      "name": "python"
    }
  },
  "cells": [
    {
      "cell_type": "markdown",
      "source": [
        "# Implementación de una capa totalmente conectada"
      ],
      "metadata": {
        "id": "O9SFcnDYXOPr"
      }
    },
    {
      "cell_type": "code",
      "source": [
        "# importamos la librería.\n",
        "import torch"
      ],
      "metadata": {
        "id": "IG1CbsAwXRoj"
      },
      "execution_count": 16,
      "outputs": []
    },
    {
      "cell_type": "code",
      "source": [
        "# Creamos nuestra matriz X con los vectores de entrenamiento.\n",
        "\n",
        "X = torch.arange(50, dtype=torch.float).view(10, 5)\n",
        "# las funciones .view() y .reshape() son equivalentes.\n",
        "\n",
        "X\n",
        "# Mostramos la variable X."
      ],
      "metadata": {
        "colab": {
          "base_uri": "https://localhost:8080/"
        },
        "id": "i9zVVDqw7RkX",
        "outputId": "25a8082a-3e64-4a8c-8739-5fb66e6c47be"
      },
      "execution_count": 17,
      "outputs": [
        {
          "output_type": "execute_result",
          "data": {
            "text/plain": [
              "tensor([[ 0.,  1.,  2.,  3.,  4.],\n",
              "        [ 5.,  6.,  7.,  8.,  9.],\n",
              "        [10., 11., 12., 13., 14.],\n",
              "        [15., 16., 17., 18., 19.],\n",
              "        [20., 21., 22., 23., 24.],\n",
              "        [25., 26., 27., 28., 29.],\n",
              "        [30., 31., 32., 33., 34.],\n",
              "        [35., 36., 37., 38., 39.],\n",
              "        [40., 41., 42., 43., 44.],\n",
              "        [45., 46., 47., 48., 49.]])"
            ]
          },
          "metadata": {},
          "execution_count": 17
        }
      ]
    },
    {
      "cell_type": "markdown",
      "source": [
        "Lo que hace la función ```torch.arange()``` es crear un tensor unidimensional (vector).\n",
        "\n",
        "Dentro de la función utilizando el número 50 ordenamos que el vector sea llenado con los números desde el 0 hasta el 49, luego especificamos el tipo de dato con ``` dtype=torch.float```.\n",
        "\n",
        "Por último utilizamos la función ``` .view(10, 5) ``` para convertir este tensor unidimensional a un tensor bidimensional (matriz). Esto significa que tenemos 10 vectores de entrada con 5 componentes cada uno.\n",
        "\n",
        "\n",
        "\n",
        "\n"
      ],
      "metadata": {
        "id": "ePKcSpDP9BNw"
      }
    },
    {
      "cell_type": "code",
      "source": [
        "capa_densa = torch.nn.Linear(in_features=5,\n",
        "                             out_features=3)"
      ],
      "metadata": {
        "id": "yMZKplIc-qXu"
      },
      "execution_count": 18,
      "outputs": []
    },
    {
      "cell_type": "markdown",
      "source": [
        "Creamos una variable llamada ``` capa_densa ```, esta va a ser nuestra capa totalmente conectada, para ello utilizamos la función ``` torch.nn.Linear() ```. Dentro de la función especificamos que la cantidad de datos de entrada serán 5 y la cantidad de datos de salida serán 3 usando ``` in_features=5 ``` y ``` out_features=3 ``` respectivamente.\n",
        "\n",
        "\n",
        "\n"
      ],
      "metadata": {
        "id": "j1eyklZP_Uex"
      }
    },
    {
      "cell_type": "code",
      "source": [
        "capa_densa.weight"
      ],
      "metadata": {
        "colab": {
          "base_uri": "https://localhost:8080/"
        },
        "id": "gd2O-a9LAZ-x",
        "outputId": "6131d2ba-fdd8-4c03-b0e7-d704a761c4b2"
      },
      "execution_count": 19,
      "outputs": [
        {
          "output_type": "execute_result",
          "data": {
            "text/plain": [
              "Parameter containing:\n",
              "tensor([[ 0.2396,  0.1826, -0.0389,  0.0956,  0.0940],\n",
              "        [ 0.1484, -0.0889, -0.3272,  0.3068,  0.1918],\n",
              "        [-0.1055,  0.1080,  0.3224, -0.3643,  0.1064]], requires_grad=True)"
            ]
          },
          "metadata": {},
          "execution_count": 19
        }
      ]
    },
    {
      "cell_type": "markdown",
      "source": [
        "utilizando la función ```.weight ``` mostramos el conjunto de pesos asociado a la capa densa. Esta es una matriz de tamaño 3×5 debido a la cantidad de neuronas de salida (3) y la cantidad de datos de entrada (5)\n",
        "\n",
        "Todos estos valores son generados aleatoriamente al momento de construir la red neuronal."
      ],
      "metadata": {
        "id": "nxxvo0lwA94_"
      }
    },
    {
      "cell_type": "code",
      "source": [
        "capa_densa.bias"
      ],
      "metadata": {
        "colab": {
          "base_uri": "https://localhost:8080/"
        },
        "id": "-vNCpkx8BzmZ",
        "outputId": "0b5c598d-a0eb-4b6a-832b-a5387c0cfc1c"
      },
      "execution_count": 20,
      "outputs": [
        {
          "output_type": "execute_result",
          "data": {
            "text/plain": [
              "Parameter containing:\n",
              "tensor([-0.1880, -0.1169,  0.3016], requires_grad=True)"
            ]
          },
          "metadata": {},
          "execution_count": 20
        }
      ]
    },
    {
      "cell_type": "markdown",
      "source": [
        "utilizando la función ```.bias``` mostramos el conjunto de bias asociado a la capa densa. Este es un vector con 3 componentes debido a la cantidad de neuronas de salida (3)"
      ],
      "metadata": {
        "id": "kT9T66c8B12Q"
      }
    },
    {
      "cell_type": "code",
      "source": [
        "# Introducimos la matriz de entrenamiento X a la capa densa y creamos una nueva variable que almacene los resultados.\n",
        "salida = capa_densa(X)\n",
        "print('resultados salida:\\n', salida)\n",
        "print('\\nsalida dim:', salida.size())"
      ],
      "metadata": {
        "colab": {
          "base_uri": "https://localhost:8080/"
        },
        "id": "y6nJKaJRDFtz",
        "outputId": "6b3f7450-1a83-43de-87fe-983d13726837"
      },
      "execution_count": 21,
      "outputs": [
        {
          "output_type": "stream",
          "name": "stdout",
          "text": [
            "resultados salida:\n",
            " tensor([[ 0.5796,  0.8273,  0.3868],\n",
            "        [ 3.4444,  1.9816,  0.7213],\n",
            "        [ 6.3091,  3.1359,  1.0559],\n",
            "        [ 9.1739,  4.2901,  1.3904],\n",
            "        [12.0386,  5.4444,  1.7249],\n",
            "        [14.9034,  6.5987,  2.0594],\n",
            "        [17.7681,  7.7529,  2.3939],\n",
            "        [20.6329,  8.9072,  2.7284],\n",
            "        [23.4977, 10.0615,  3.0629],\n",
            "        [26.3624, 11.2157,  3.3975]], grad_fn=<AddmmBackward0>)\n",
            "\n",
            "salida dim: torch.Size([10, 3])\n"
          ]
        }
      ]
    }
  ]
}