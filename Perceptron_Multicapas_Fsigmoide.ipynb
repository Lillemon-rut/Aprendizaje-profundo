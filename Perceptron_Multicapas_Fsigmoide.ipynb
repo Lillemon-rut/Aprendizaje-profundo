{
  "nbformat": 4,
  "nbformat_minor": 0,
  "metadata": {
    "colab": {
      "provenance": []
    },
    "kernelspec": {
      "name": "python3",
      "display_name": "Python 3"
    },
    "language_info": {
      "name": "python"
    }
  },
  "cells": [
    {
      "cell_type": "markdown",
      "source": [
        "# Entrenamiento de una red neuronal multicapas\n",
        "Implementación en Python de una red neuronal multicapas utilizando como función de activación la función sigmoide y como función de error la función de mínimos cuadrados. Para el entrenamiento se utilizará el conjunto de datos MNIST y el método de retropropagación."
      ],
      "metadata": {
        "id": "f5coRhnlfpk9"
      }
    },
    {
      "cell_type": "markdown",
      "source": [
        "## Librerías"
      ],
      "metadata": {
        "id": "UJ-VMLBEkQKm"
      }
    },
    {
      "cell_type": "code",
      "source": [
        "# Importamos librerías.\n",
        "import matplotlib.pyplot as plt              # Librería para graficación de datos\n",
        "import pandas as pd                          # Librería para manejo de datos\n",
        "import torch                                 # Pytorch\n",
        "%matplotlib inline\n",
        "# Función mágica que nos permite almacenar los gráficos en el notebook"
      ],
      "metadata": {
        "id": "PBUABx-gf_A4"
      },
      "execution_count": 2,
      "outputs": []
    },
    {
      "cell_type": "code",
      "source": [
        "import time                                 # Librería de python para obtener el tiempo de la maquina\n",
        "import numpy as np\n",
        "from torchvision import datasets            # Cargamos los conjuntos de datos disponibles de la librería\n",
        "from torchvision import transforms          # Cargamos los transformadores de imágenes\n",
        "from torch.utils.data import DataLoader\n",
        "import torch.nn.functional as F             # Librería para cargar funciones de activación"
      ],
      "metadata": {
        "id": "b1XEm2KjgmC-"
      },
      "execution_count": 3,
      "outputs": []
    },
    {
      "cell_type": "markdown",
      "source": [
        "## Configuraciones iniciales y conjunto de datos"
      ],
      "metadata": {
        "id": "ZW13Vkl3jljS"
      }
    },
    {
      "cell_type": "code",
      "source": [
        "# CONFIGURACIONES\n",
        "\n",
        "SEED = 1 # Semilla para generación aleatoria\n",
        "TAMAÑO_LOTE = 100 # Batch\n",
        "NUM_EPOCAS = 5  # Epoch !!!!!!!  Aumentar el número de épocas puede incrementar considerablemente el tiempo de ejecución del programa.\n",
        "DISPOSITIVO = torch.device('cuda:0' if torch.cuda.is_available() else 'cpu')"
      ],
      "metadata": {
        "id": "uPLHBC77g28y"
      },
      "execution_count": 4,
      "outputs": []
    },
    {
      "cell_type": "markdown",
      "source": [
        "La variable ```SEED``` será utilizada para generar un valor semialeatorio.\n",
        "\n",
        "La variable ```TAMAÑO_LOTE``` se encargará de dividir el conjunto de datos en grupos de 100, en inglés se le conoce como **Batch**.\n",
        "\n",
        "La variable ```NUM_EPOCAS``` se encargará de definir la cantidad de iteraciones que haremos al entrenamiento de la red neuronal, en inglés se le conoce como **Epoch**.\n",
        "\n",
        "Por último la función ```torch.device``` se encarga de verificar sí estamos utilizando la GPU o la CPU del dispositivo.\n",
        "\n"
      ],
      "metadata": {
        "id": "lalL-tsZmI5Y"
      }
    },
    {
      "cell_type": "code",
      "source": [
        "# Conjunto de datos MNIST\n",
        "\n",
        "datos_entrenamiento = datasets.MNIST(root = 'data',\n",
        "                                     train = True,\n",
        "                                     transform = transforms.ToTensor(),\n",
        "                                     download = True)\n",
        "\n",
        "datos_prueba = datasets.MNIST(root = 'data',\n",
        "                              train = False,\n",
        "                              transform = transforms.ToTensor())\n",
        "\n",
        "cargador_entrenamiento = DataLoader(dataset = datos_entrenamiento,\n",
        "                                    batch_size = TAMAÑO_LOTE,\n",
        "                                    shuffle = True)\n",
        "\n",
        "cargador_prueba = DataLoader(dataset = datos_prueba,\n",
        "                             batch_size = TAMAÑO_LOTE,\n",
        "                             shuffle = False)\n",
        "\n",
        "# Imprimimos los conjuntos de datos\n",
        "for imagenes, etiquetas in cargador_entrenamiento:\n",
        "  print('Dimensiones del lote de imágenes: ', imagenes.shape)\n",
        "  print('Dimensiones de las etiquetas de las imágenes: ', etiquetas.shape)\n",
        "  break"
      ],
      "metadata": {
        "colab": {
          "base_uri": "https://localhost:8080/"
        },
        "id": "I5GReJ-znVKi",
        "outputId": "b3bfd42b-1442-4fd5-8f45-4be58a4e5873"
      },
      "execution_count": 5,
      "outputs": [
        {
          "output_type": "stream",
          "name": "stdout",
          "text": [
            "Downloading http://yann.lecun.com/exdb/mnist/train-images-idx3-ubyte.gz\n",
            "Failed to download (trying next):\n",
            "<urlopen error [SSL: CERTIFICATE_VERIFY_FAILED] certificate verify failed: certificate has expired (_ssl.c:1007)>\n",
            "\n",
            "Downloading https://ossci-datasets.s3.amazonaws.com/mnist/train-images-idx3-ubyte.gz\n",
            "Downloading https://ossci-datasets.s3.amazonaws.com/mnist/train-images-idx3-ubyte.gz to data/MNIST/raw/train-images-idx3-ubyte.gz\n"
          ]
        },
        {
          "output_type": "stream",
          "name": "stderr",
          "text": [
            "100%|██████████| 9912422/9912422 [00:00<00:00, 16215283.50it/s]\n"
          ]
        },
        {
          "output_type": "stream",
          "name": "stdout",
          "text": [
            "Extracting data/MNIST/raw/train-images-idx3-ubyte.gz to data/MNIST/raw\n",
            "\n",
            "Downloading http://yann.lecun.com/exdb/mnist/train-labels-idx1-ubyte.gz\n",
            "Failed to download (trying next):\n",
            "<urlopen error [SSL: CERTIFICATE_VERIFY_FAILED] certificate verify failed: certificate has expired (_ssl.c:1007)>\n",
            "\n",
            "Downloading https://ossci-datasets.s3.amazonaws.com/mnist/train-labels-idx1-ubyte.gz\n",
            "Downloading https://ossci-datasets.s3.amazonaws.com/mnist/train-labels-idx1-ubyte.gz to data/MNIST/raw/train-labels-idx1-ubyte.gz\n"
          ]
        },
        {
          "output_type": "stream",
          "name": "stderr",
          "text": [
            "100%|██████████| 28881/28881 [00:00<00:00, 496091.79it/s]\n"
          ]
        },
        {
          "output_type": "stream",
          "name": "stdout",
          "text": [
            "Extracting data/MNIST/raw/train-labels-idx1-ubyte.gz to data/MNIST/raw\n",
            "\n",
            "Downloading http://yann.lecun.com/exdb/mnist/t10k-images-idx3-ubyte.gz\n",
            "Failed to download (trying next):\n",
            "<urlopen error [SSL: CERTIFICATE_VERIFY_FAILED] certificate verify failed: certificate has expired (_ssl.c:1007)>\n",
            "\n",
            "Downloading https://ossci-datasets.s3.amazonaws.com/mnist/t10k-images-idx3-ubyte.gz\n",
            "Downloading https://ossci-datasets.s3.amazonaws.com/mnist/t10k-images-idx3-ubyte.gz to data/MNIST/raw/t10k-images-idx3-ubyte.gz\n"
          ]
        },
        {
          "output_type": "stream",
          "name": "stderr",
          "text": [
            "100%|██████████| 1648877/1648877 [00:00<00:00, 4436130.14it/s]\n"
          ]
        },
        {
          "output_type": "stream",
          "name": "stdout",
          "text": [
            "Extracting data/MNIST/raw/t10k-images-idx3-ubyte.gz to data/MNIST/raw\n",
            "\n",
            "Downloading http://yann.lecun.com/exdb/mnist/t10k-labels-idx1-ubyte.gz\n",
            "Failed to download (trying next):\n",
            "<urlopen error [SSL: CERTIFICATE_VERIFY_FAILED] certificate verify failed: certificate has expired (_ssl.c:1007)>\n",
            "\n",
            "Downloading https://ossci-datasets.s3.amazonaws.com/mnist/t10k-labels-idx1-ubyte.gz\n",
            "Downloading https://ossci-datasets.s3.amazonaws.com/mnist/t10k-labels-idx1-ubyte.gz to data/MNIST/raw/t10k-labels-idx1-ubyte.gz\n"
          ]
        },
        {
          "output_type": "stream",
          "name": "stderr",
          "text": [
            "100%|██████████| 4542/4542 [00:00<00:00, 4226875.70it/s]\n"
          ]
        },
        {
          "output_type": "stream",
          "name": "stdout",
          "text": [
            "Extracting data/MNIST/raw/t10k-labels-idx1-ubyte.gz to data/MNIST/raw\n",
            "\n",
            "Dimensiones del lote de imágenes:  torch.Size([100, 1, 28, 28])\n",
            "Dimensiones de las etiquetas de las imágenes:  torch.Size([100])\n"
          ]
        }
      ]
    },
    {
      "cell_type": "markdown",
      "source": [
        "Cargamos los datos que utilizaremos para entrenar la red neuronal a la variable ```datos_entrenamiento``` y los datos que utilizaremos para probar la red neuronal a la variable ```datos_prueba```. La variable ```cargador_entrenamiento``` se encarga de separar los datos de entrenamiento en lotes de tamaño ```TAMAÑO_LOTE```, del mismo modo la variable ```cargador_prueba``` separa los datos de ```datos_prueba```.\n",
        "\n",
        "Por último imprimimos las dimensiones de las imágenes y las etiquetas del conjunto de entrenamiento. ```torch.Size([100, 1, 28, 28])``` nos indica las dimensiones de cada una de las imágenes en el conjunto de datos. 100 se refiere al tamaño del lote, 1 se refiere al color de la imágen (las imágenes son de color blanco y negro) y los dos últimos componentes indican el ancho y el alto de la imagen en pixeles. ```torch.Size([100])``` indica que hay 100 etiquetas distintas, puesto que cada imagen en el lote tiene su propia etiqueta (0-9) entonces cada una de las componentes de este vector será un número del 0 al 9.\n",
        "\n",
        "Para mayor comprensión de las funciones [```datasets.MNIST()```](https://pytorch.org/vision/main/generated/torchvision.datasets.MNIST.html), [```transforms.ToTensor()```](https://pytorch.org/vision/0.11/transforms.html) y [```DataLoader()```](https://pytorch.org/docs/stable/data.html)  se pueden revisar sus documentaciones.\n",
        "\n"
      ],
      "metadata": {
        "id": "6-qtRO1Kqtxz"
      }
    },
    {
      "cell_type": "code",
      "source": [
        "# Ejemplo\n",
        "# Imprimimos la etiqueta de un número del conjunto de datos\n",
        "print(etiquetas[0])\n",
        "plt.imshow(imagenes[0].reshape(28,28), cmap=\"gray\")"
      ],
      "metadata": {
        "colab": {
          "base_uri": "https://localhost:8080/",
          "height": 466
        },
        "id": "bYQKBtQFAsxe",
        "outputId": "8acfeea9-6aab-4918-a8ee-b9c89e8133b5"
      },
      "execution_count": 6,
      "outputs": [
        {
          "output_type": "stream",
          "name": "stdout",
          "text": [
            "tensor(2)\n"
          ]
        },
        {
          "output_type": "execute_result",
          "data": {
            "text/plain": [
              "<matplotlib.image.AxesImage at 0x7fc2b1b34af0>"
            ]
          },
          "metadata": {},
          "execution_count": 6
        },
        {
          "output_type": "display_data",
          "data": {
            "text/plain": [
              "<Figure size 640x480 with 1 Axes>"
            ],
            "image/png": "[encoded data removed]"
          },
          "metadata": {}
        }
      ]
    },
    {
      "cell_type": "code",
      "source": [
        "def to_onehot(y, num_clases):\n",
        "  y_onehot = torch.FloatTensor(y.size(0), num_clases)\n",
        "  y_onehot.zero_()\n",
        "  tmp = y.view(-1, 1).long().to(torch.device('cpu'))\n",
        "  y_onehot.scatter_(1, tmp, 1).float()\n",
        "  return y_onehot"
      ],
      "metadata": {
        "id": "V9-w87XPIgmS"
      },
      "execution_count": 7,
      "outputs": []
    },
    {
      "cell_type": "markdown",
      "source": [
        "La función ```to_onehot``` crea un tensor de tamaño ```y.size(0)```×```num_clases```, luego llena este tensor de zeros con la función ```.zero_()```. El objetivo de esta función es generar un tensor que sea igual a los grupos de bits [one-hot](https://es.wikipedia.org/wiki/One-hot), para ello utilizamos la variable ```tmp``` y la última linea de código.\n",
        "\n"
      ],
      "metadata": {
        "id": "2xSD1ex_ehZH"
      }
    },
    {
      "cell_type": "markdown",
      "source": [
        "## Modelo"
      ],
      "metadata": {
        "id": "hPog9TrZhLGS"
      }
    },
    {
      "cell_type": "code",
      "source": [
        "class MRNSigmoideMSE(torch.nn.Module):\n",
        "  def __init__(self, num_caracteristicas, num_ocultas, num_clases):\n",
        "    super(MRNSigmoideMSE, self).__init__()\n",
        "\n",
        "    self.num_clases = num_clases\n",
        "\n",
        "    # Primera capa oculta\n",
        "    self.lineal_1 = torch.nn.Linear(num_caracteristicas, num_ocultas) # Asignamos a lineal_1 como una red neuronal lineal que tiene como entrada num_caracteristicas y salida num_ocultas\n",
        "    self.lineal_1.weight.detach().normal_(0.0, 0.1)                   # Inicializamos los pesos de la red neuronal con una normalización con media 0.0 y desviación estandar 0.1\n",
        "    self.lineal_1.bias.detach().zero_()\n",
        "\n",
        "    # Capa de salida\n",
        "    self.lineal_salida = torch.nn.Linear(num_ocultas, num_clases)   # Asignamos a lineal_salida como una red neuronal lineal que tiene como entrada num_ocultas y salida num_clases\n",
        "    self.lineal_salida.weight.detach().normal_(0.0, 0.1)            # Inicializamos los pesos de la red neuronal con una normalización con media 0.0 y desviación estandar 0.1\n",
        "    self.lineal_salida.bias.detach().zero_()                        # Inicializamos las bias de la red neuronal en ceros.\n",
        "\n",
        "\n",
        "  # Definimos la propagación hacia delante\n",
        "  def forward(self, x):\n",
        "    salida = self.lineal_1(x)         # La información pasa a través de la capa oculta lineal_1\n",
        "    salida = torch.sigmoid(salida)    # Se aplica la función sigmoide\n",
        "    logits = self.lineal_salida(salida)   # La información pasa a la capa de salida\n",
        "    probas = torch.sigmoid(logits)        # Se aplica la función sigmoide una última vez\n",
        "    return logits, probas\n",
        "\n"
      ],
      "metadata": {
        "id": "BXAdc_SehNo-"
      },
      "execution_count": 8,
      "outputs": []
    },
    {
      "cell_type": "markdown",
      "source": [
        "Construimos una clase en python que va a ser nuestro modelo. ```MRNSigmoideMSE``` se refiere a una red neuronal multicapas que utiliza la función de activación sigmoide y además utiliza como función de error el promedio de mínimos cuadrados.\n",
        "\n",
        "El objetivo de inicializar los pesos con media 0.0 y desviación estandar 0.1 es para un más fácil manejo de los datos y los cálculos.\n",
        "\n",
        "\n",
        " Para aquellos interesados en profundizar en las funciones de Pytorch pueden leer la [documentación de la librería](https://pytorch.org/docs/stable/index.html)."
      ],
      "metadata": {
        "id": "ym_8jN-s0rtR"
      }
    },
    {
      "cell_type": "code",
      "source": [
        "# Inicialización del modelo\n",
        "torch.manual_seed(SEED)\n",
        "modelo = MRNSigmoideMSE(num_caracteristicas = 28*28, # tamaño de las imágenes en pixeles\n",
        "                        num_ocultas = 100,           # Capa oculta con 100 neuronas\n",
        "                        num_clases = 10)             # numero de etiquetas (0-9) para identificar los números\n",
        "\n",
        "modelo = modelo.to(DISPOSITIVO)\n",
        "\n",
        "optimizador = torch.optim.SGD(modelo.parameters(), lr = 0.1) # lr: learning rate o velocidad de aprendizaje"
      ],
      "metadata": {
        "id": "nyxchqptwnC5"
      },
      "execution_count": 9,
      "outputs": []
    },
    {
      "cell_type": "code",
      "source": [
        "# Entrenamiento\n",
        "\n",
        "# función de error mínimo cuadrado (Minimal Square Error)\n",
        "def compute_mse(red, cargador_datos):\n",
        "  actual_mse, num_ejemplos = torch.zeros(modelo.num_clases).float(), 0\n",
        "  with torch.no_grad():\n",
        "    for caracteristicas, objetivos in cargador_datos:\n",
        "      caracteristicas = caracteristicas.view(-1, 28*28).to(DISPOSITIVO) # Convertimos las imágenes en un tensor de tamaño 1x784\n",
        "      logits, probas = red.forward(caracteristicas)                     # Aplicamos propagación hacia adelante\n",
        "      probas = probas.to(torch.device('cpu'))\n",
        "      y_onehot = to_onehot(objetivos, modelo.num_clases)                # Aplicamos función to_onehot\n",
        "      perdida = torch.sum((y_onehot - probas)**2, dim=0)                # Calculaos la función de error\n",
        "      num_ejemplos += objetivos.size(0)\n",
        "      actual_mse += perdida\n",
        "\n",
        "    actual_mse = torch.mean(actual_mse/num_ejemplos, dim = 0)           # Calculamos el promedio\n",
        "    return actual_mse"
      ],
      "metadata": {
        "id": "68dt5vJqy86s"
      },
      "execution_count": 10,
      "outputs": []
    },
    {
      "cell_type": "code",
      "source": [
        "start_time = time.time()\n",
        "coste_pequeñolote = []\n",
        "coste_epoca = []\n",
        "for epoca in range(NUM_EPOCAS):\n",
        "  modelo.train()\n",
        "  for lote_idx, (caracteristicas, objetivos) in enumerate(cargador_entrenamiento):\n",
        "\n",
        "    caracteristicas = caracteristicas.view(-1, 28*28).to(DISPOSITIVO)\n",
        "\n",
        "    # RETROPROPAGACIÓN\n",
        "    logits,probas = modelo(caracteristicas)\n",
        "\n",
        "    y_onehot = to_onehot(objetivos, modelo.num_clases).to(DISPOSITIVO)\n",
        "\n",
        "    costo = F.mse_loss(y_onehot, probas)\n",
        "    optimizador.zero_grad()\n",
        "\n",
        "    costo.backward()\n",
        "    coste_pequeñolote.append(costo)\n",
        "\n",
        "    # se actualizan los parámetros del modelo\n",
        "\n",
        "    optimizador.step()\n",
        "\n",
        "    # Salida por consola\n",
        "\n",
        "    if not lote_idx % 50:\n",
        "      print('Epoca: %03d/%03d | lote %03d/%03d | Costo: %.4f'\n",
        "            %(epoca+1,NUM_EPOCAS, lote_idx,len(cargador_entrenamiento), costo))\n",
        "\n",
        "  costo = compute_mse(modelo, cargador_entrenamiento)\n",
        "  coste_epoca.append(costo)\n",
        "  print('Epoca: %03d/%03d Costo de entrenamiento: %.4f' %\n",
        "        (epoca+1, NUM_EPOCAS, costo))\n",
        "  print('Tiempo transcurrido: %.2f min' % ((time.time() - start_time)/60))\n",
        "\n",
        "print('Tiempo de entrenamiento total: %.2f min' % ((time.time() - start_time)/60))\n",
        "\n",
        "\n",
        "\n"
      ],
      "metadata": {
        "colab": {
          "base_uri": "https://localhost:8080/"
        },
        "id": "4ruWYaBU65wx",
        "outputId": "473ff47b-2b11-4e8e-e801-9a6bca7b5401"
      },
      "execution_count": 11,
      "outputs": [
        {
          "output_type": "stream",
          "name": "stdout",
          "text": [
            "Epoca: 001/005 | lote 000/600 | Costo: 0.2551\n",
            "Epoca: 001/005 | lote 050/600 | Costo: 0.1029\n",
            "Epoca: 001/005 | lote 100/600 | Costo: 0.0935\n",
            "Epoca: 001/005 | lote 150/600 | Costo: 0.0908\n",
            "Epoca: 001/005 | lote 200/600 | Costo: 0.0897\n",
            "Epoca: 001/005 | lote 250/600 | Costo: 0.0900\n",
            "Epoca: 001/005 | lote 300/600 | Costo: 0.0896\n",
            "Epoca: 001/005 | lote 350/600 | Costo: 0.0888\n",
            "Epoca: 001/005 | lote 400/600 | Costo: 0.0892\n",
            "Epoca: 001/005 | lote 450/600 | Costo: 0.0886\n",
            "Epoca: 001/005 | lote 500/600 | Costo: 0.0887\n",
            "Epoca: 001/005 | lote 550/600 | Costo: 0.0883\n",
            "Epoca: 001/005 Costo de entrenamiento: 0.0881\n",
            "Tiempo transcurrido: 0.36 min\n",
            "Epoca: 002/005 | lote 000/600 | Costo: 0.0877\n",
            "Epoca: 002/005 | lote 050/600 | Costo: 0.0875\n",
            "Epoca: 002/005 | lote 100/600 | Costo: 0.0885\n",
            "Epoca: 002/005 | lote 150/600 | Costo: 0.0875\n",
            "Epoca: 002/005 | lote 200/600 | Costo: 0.0869\n",
            "Epoca: 002/005 | lote 250/600 | Costo: 0.0871\n",
            "Epoca: 002/005 | lote 300/600 | Costo: 0.0860\n",
            "Epoca: 002/005 | lote 350/600 | Costo: 0.0866\n",
            "Epoca: 002/005 | lote 400/600 | Costo: 0.0860\n",
            "Epoca: 002/005 | lote 450/600 | Costo: 0.0863\n",
            "Epoca: 002/005 | lote 500/600 | Costo: 0.0852\n",
            "Epoca: 002/005 | lote 550/600 | Costo: 0.0853\n",
            "Epoca: 002/005 Costo de entrenamiento: 0.0852\n",
            "Tiempo transcurrido: 0.67 min\n",
            "Epoca: 003/005 | lote 000/600 | Costo: 0.0849\n",
            "Epoca: 003/005 | lote 050/600 | Costo: 0.0847\n",
            "Epoca: 003/005 | lote 100/600 | Costo: 0.0840\n",
            "Epoca: 003/005 | lote 150/600 | Costo: 0.0839\n",
            "Epoca: 003/005 | lote 200/600 | Costo: 0.0841\n",
            "Epoca: 003/005 | lote 250/600 | Costo: 0.0842\n",
            "Epoca: 003/005 | lote 300/600 | Costo: 0.0843\n",
            "Epoca: 003/005 | lote 350/600 | Costo: 0.0825\n",
            "Epoca: 003/005 | lote 400/600 | Costo: 0.0825\n",
            "Epoca: 003/005 | lote 450/600 | Costo: 0.0802\n",
            "Epoca: 003/005 | lote 500/600 | Costo: 0.0818\n",
            "Epoca: 003/005 | lote 550/600 | Costo: 0.0813\n",
            "Epoca: 003/005 Costo de entrenamiento: 0.0812\n",
            "Tiempo transcurrido: 1.02 min\n",
            "Epoca: 004/005 | lote 000/600 | Costo: 0.0819\n",
            "Epoca: 004/005 | lote 050/600 | Costo: 0.0809\n",
            "Epoca: 004/005 | lote 100/600 | Costo: 0.0802\n",
            "Epoca: 004/005 | lote 150/600 | Costo: 0.0799\n",
            "Epoca: 004/005 | lote 200/600 | Costo: 0.0763\n",
            "Epoca: 004/005 | lote 250/600 | Costo: 0.0777\n",
            "Epoca: 004/005 | lote 300/600 | Costo: 0.0769\n",
            "Epoca: 004/005 | lote 350/600 | Costo: 0.0786\n",
            "Epoca: 004/005 | lote 400/600 | Costo: 0.0777\n",
            "Epoca: 004/005 | lote 450/600 | Costo: 0.0781\n",
            "Epoca: 004/005 | lote 500/600 | Costo: 0.0779\n",
            "Epoca: 004/005 | lote 550/600 | Costo: 0.0749\n",
            "Epoca: 004/005 Costo de entrenamiento: 0.0763\n",
            "Tiempo transcurrido: 1.36 min\n",
            "Epoca: 005/005 | lote 000/600 | Costo: 0.0775\n",
            "Epoca: 005/005 | lote 050/600 | Costo: 0.0755\n",
            "Epoca: 005/005 | lote 100/600 | Costo: 0.0769\n",
            "Epoca: 005/005 | lote 150/600 | Costo: 0.0716\n",
            "Epoca: 005/005 | lote 200/600 | Costo: 0.0757\n",
            "Epoca: 005/005 | lote 250/600 | Costo: 0.0738\n",
            "Epoca: 005/005 | lote 300/600 | Costo: 0.0756\n",
            "Epoca: 005/005 | lote 350/600 | Costo: 0.0740\n",
            "Epoca: 005/005 | lote 400/600 | Costo: 0.0732\n",
            "Epoca: 005/005 | lote 450/600 | Costo: 0.0764\n",
            "Epoca: 005/005 | lote 500/600 | Costo: 0.0717\n",
            "Epoca: 005/005 | lote 550/600 | Costo: 0.0700\n",
            "Epoca: 005/005 Costo de entrenamiento: 0.0709\n",
            "Tiempo transcurrido: 1.70 min\n",
            "Tiempo de entrenamiento total: 1.70 min\n"
          ]
        }
      ]
    },
    {
      "cell_type": "code",
      "source": [
        "lote_final = [lf.item() for lf in coste_pequeñolote  ]\n",
        "plt.plot(range(len(coste_pequeñolote)), lote_final)\n",
        "plt.ylabel('Promedio error cuadrático')\n",
        "plt.xlabel('Pequeño lote')\n",
        "plt.show()\n",
        "\n",
        "epoca_final = [ef.item() for ef in coste_epoca]\n",
        "plt.plot(range(len(coste_epoca)), epoca_final)\n",
        "plt.ylabel('Promedio error cuadrático')\n",
        "plt.xlabel('Epoca')"
      ],
      "metadata": {
        "colab": {
          "base_uri": "https://localhost:8080/",
          "height": 899
        },
        "id": "FAIrT0AaKKMb",
        "outputId": "33f376d0-80b9-473e-979d-a81f7091fc1f"
      },
      "execution_count": 15,
      "outputs": [
        {
          "output_type": "display_data",
          "data": {
            "text/plain": [
              "<Figure size 640x480 with 1 Axes>"
            ],
            "image/png": "[encoded data removed]"
          },
          "metadata": {}
        },
        {
          "output_type": "execute_result",
          "data": {
            "text/plain": [
              "Text(0.5, 0, 'Epoca')"
            ]
          },
          "metadata": {},
          "execution_count": 15
        },
        {
          "output_type": "display_data",
          "data": {
            "text/plain": [
              "<Figure size 640x480 with 1 Axes>"
            ],
            "image/png": "[encoded data removed]"
          },
          "metadata": {}
        }
      ]
    },
    {
      "cell_type": "code",
      "source": [
        "def exactitud(red, cargador_datos):\n",
        "  prediccion_correcta, num_ejemplos = 0, 0\n",
        "  with torch.no_grad():\n",
        "    for caracteristicas, objetivos in cargador_datos:\n",
        "      caracteristicas = caracteristicas.view(-1, 28*28).to(DISPOSITIVO)\n",
        "      objetivos = objetivos.to(DISPOSITIVO)\n",
        "      a1, a2 = red.forward(caracteristicas)\n",
        "      prediccion_etiquetas = torch.argmax(a2, 1)\n",
        "      prediccion_correcta += torch.sum(prediccion_etiquetas == objetivos).item()\n",
        "      num_ejemplos += objetivos.size(0)\n",
        "    return prediccion_correcta / num_ejemplos * 100\n",
        "\n",
        "print('Exactitud de entrenamiento: %.2f' % exactitud(modelo, cargador_entrenamiento))\n",
        "print('Exactitud de prueba: %.2f' % exactitud(modelo, cargador_prueba))"
      ],
      "metadata": {
        "colab": {
          "base_uri": "https://localhost:8080/"
        },
        "id": "wg6NdG7Ckcn-",
        "outputId": "8e89d6a5-c735-46bc-b914-931390537741"
      },
      "execution_count": 18,
      "outputs": [
        {
          "output_type": "stream",
          "name": "stdout",
          "text": [
            "Exactitud de entrenamiento: 58.59\n",
            "Exactitud de prueba: 59.15\n"
          ]
        }
      ]
    },
    {
      "cell_type": "markdown",
      "source": [
        "La exactitud del entrenamiento y la exactitud de las pruebas está fuertemente ligado a varios factores en la toma de decisión previa al entrenamiento entre ellos la elección de la cantidad de capas ocultas, la elección en la cantidad de neuronas, la elección en la cantidad de épocas y lotes de datos."
      ],
      "metadata": {
        "id": "H9n9X9P25SXG"
      }
    }
  ]
}